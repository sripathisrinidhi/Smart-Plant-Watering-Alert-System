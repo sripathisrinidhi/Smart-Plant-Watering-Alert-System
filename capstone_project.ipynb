{
 "cells": [
  {
   "cell_type": "code",
   "execution_count": 2,
   "id": "037e0427-2d54-4e65-ba33-9be5ee9b5638",
   "metadata": {},
   "outputs": [],
   "source": [
    "# Install necessary libraries (if you haven't already)\n",
    "# pip install pandas scikit-learn numpy\n",
    "\n",
    "import pandas as pd\n",
    "import numpy as np\n",
    "from sklearn.model_selection import train_test_split\n",
    "from sklearn.preprocessing import StandardScaler\n",
    "from sklearn.ensemble import RandomForestClassifier # Using RandomForest for better performance\n",
    "from sklearn.metrics import classification_report, accuracy_score\n",
    "import matplotlib.pyplot as plt\n",
    "import seaborn as sns"
   ]
  },
  {
   "cell_type": "code",
   "execution_count": 3,
   "id": "6ee7ea85-41e7-4891-adcd-8663f782f85d",
   "metadata": {},
   "outputs": [
    {
     "name": "stdout",
     "output_type": "stream",
     "text": [
      "Generated Dataset Head:\n",
      "   Temperature   Humidity       Light  SoilMoisture  State\n",
      "0    22.074176  40.912975  747.965322     62.278502      0\n",
      "1    25.324496  30.829986  830.020671     33.738436      1\n",
      "2    27.862039  41.707827  739.713173     27.029314      1\n",
      "3    24.089016  58.215403  789.008096     44.516439      0\n",
      "4    19.855122  62.904657  533.273518     78.115431      2\n",
      "\n",
      "Total Samples: 4500\n"
     ]
    }
   ],
   "source": [
    "# --- Data Simulation Code ---\n",
    "np.random.seed(42)\n",
    "n_samples = 1500 # A good number for a simple capstone project\n",
    "\n",
    "# 1. 'Healthy' (Label 0): Optimal conditions\n",
    "healthy_data = pd.DataFrame({\n",
    "    'Temperature': np.random.uniform(20, 26, n_samples), # Celsius\n",
    "    'Humidity': np.random.uniform(40, 60, n_samples),     # Percentage\n",
    "    'Light': np.random.uniform(500, 800, n_samples),      # Lux\n",
    "    'SoilMoisture': np.random.uniform(40, 65, n_samples), # Percentage\n",
    "    'State': 0\n",
    "})\n",
    "\n",
    "# 2. 'Needs Water' (Label 1): Low soil moisture, slightly higher temp/lower humidity\n",
    "needs_water_data = pd.DataFrame({\n",
    "    'Temperature': np.random.uniform(25, 30, n_samples),\n",
    "    'Humidity': np.random.uniform(30, 45, n_samples),\n",
    "    'Light': np.random.uniform(700, 950, n_samples),\n",
    "    'SoilMoisture': np.random.uniform(10, 35, n_samples),\n",
    "    'State': 1\n",
    "})\n",
    "\n",
    "# 3. 'Overwatered' (Label 2): High soil moisture, slightly lower temp/high humidity\n",
    "overwatered_data = pd.DataFrame({\n",
    "    'Temperature': np.random.uniform(18, 22, n_samples),\n",
    "    'Humidity': np.random.uniform(60, 80, n_samples),\n",
    "    'Light': np.random.uniform(300, 550, n_samples),\n",
    "    'SoilMoisture': np.random.uniform(70, 95, n_samples),\n",
    "    'State': 2\n",
    "})\n",
    "\n",
    "# Combine all data\n",
    "df = pd.concat([healthy_data, needs_water_data, overwatered_data], ignore_index=True)\n",
    "\n",
    "# Shuffle the data\n",
    "df = df.sample(frac=1).reset_index(drop=True)\n",
    "\n",
    "print(\"Generated Dataset Head:\")\n",
    "print(df.head())\n",
    "print(f\"\\nTotal Samples: {len(df)}\")"
   ]
  },
  {
   "cell_type": "code",
   "execution_count": 4,
   "id": "3e40ce8b-a19b-450a-8d39-9ac8dfa21682",
   "metadata": {},
   "outputs": [
    {
     "name": "stdout",
     "output_type": "stream",
     "text": [
      "\n",
      "Data splitting and scaling complete.\n"
     ]
    }
   ],
   "source": [
    "# Define features (X) and target (y)\n",
    "X = df.drop('State', axis=1)\n",
    "y = df['State']\n",
    "\n",
    "# Split data into training and testing sets\n",
    "X_train, X_test, y_train, y_test = train_test_split(X, y, test_size=0.2, random_state=42)\n",
    "\n",
    "# Initialize and fit the Scaler\n",
    "scaler = StandardScaler()\n",
    "X_train_scaled = scaler.fit_transform(X_train)\n",
    "X_test_scaled = scaler.transform(X_test)\n",
    "\n",
    "print(\"\\nData splitting and scaling complete.\")"
   ]
  },
  {
   "cell_type": "code",
   "execution_count": 5,
   "id": "8c5e0b4e-fe43-4b27-9042-5d04623d0ced",
   "metadata": {},
   "outputs": [
    {
     "name": "stdout",
     "output_type": "stream",
     "text": [
      "\n",
      "Model training complete.\n"
     ]
    }
   ],
   "source": [
    "# Initialize the model (using RandomForest for better accuracy)\n",
    "model = RandomForestClassifier(n_estimators=100, random_state=42)\n",
    "\n",
    "# Train the model\n",
    "model.fit(X_train_scaled, y_train)\n",
    "\n",
    "print(\"\\nModel training complete.\")"
   ]
  },
  {
   "cell_type": "code",
   "execution_count": 6,
   "id": "ad1d7705-052d-44a4-83a2-4a6c6fe00e5d",
   "metadata": {},
   "outputs": [
    {
     "name": "stdout",
     "output_type": "stream",
     "text": [
      "\n",
      "--- Model Evaluation ---\n",
      "Accuracy Score: 1.0000\n",
      "\n",
      "Classification Report:\n",
      "              precision    recall  f1-score   support\n",
      "\n",
      "     Healthy       1.00      1.00      1.00       294\n",
      " Needs Water       1.00      1.00      1.00       306\n",
      " Overwatered       1.00      1.00      1.00       300\n",
      "\n",
      "    accuracy                           1.00       900\n",
      "   macro avg       1.00      1.00      1.00       900\n",
      "weighted avg       1.00      1.00      1.00       900\n",
      "\n"
     ]
    },
    {
     "data": {
      "image/png": "[encoded data removed]",
      "text/plain": [
       "<Figure size 1000x600 with 1 Axes>"
      ]
     },
     "metadata": {},
     "output_type": "display_data"
    }
   ],
   "source": [
    "# Predict on the test set\n",
    "y_pred = model.predict(X_test_scaled)\n",
    "\n",
    "# Print evaluation metrics\n",
    "print(\"\\n--- Model Evaluation ---\")\n",
    "print(f\"Accuracy Score: {accuracy_score(y_test, y_pred):.4f}\")\n",
    "print(\"\\nClassification Report:\")\n",
    "print(classification_report(y_test, y_pred, target_names=['Healthy', 'Needs Water', 'Overwatered']))\n",
    "\n",
    "# Visualizing Feature Importance (a great capstone addition!)\n",
    "feature_importances = pd.Series(model.feature_importances_, index=X.columns)\n",
    "plt.figure(figsize=(10, 6))\n",
    "sns.barplot(x=feature_importances, y=feature_importances.index)\n",
    "plt.title('Feature Importance for Plant State Prediction')\n",
    "plt.show()"
   ]
  },
  {
   "cell_type": "code",
   "execution_count": 7,
   "id": "d7baed84-8781-4283-b602-eed19a9d1228",
   "metadata": {},
   "outputs": [],
   "source": [
    "# Mapping of numeric labels to state names\n",
    "STATE_MAP = {0: 'Healthy', 1: 'Needs Water', 2: 'Overwatered'}\n",
    "\n",
    "def get_plant_alert(temp, hum, light, soil_moisture, model, scaler):\n",
    "    # 1. Create a DataFrame for the new input\n",
    "    new_data = pd.DataFrame({\n",
    "        'Temperature': [temp],\n",
    "        'Humidity': [hum],\n",
    "        'Light': [light],\n",
    "        'SoilMoisture': [soil_moisture]\n",
    "    })\n",
    "\n",
    "    # 2. Scale the input data\n",
    "    new_data_scaled = scaler.transform(new_data)\n",
    "\n",
    "    # 3. Predict the state\n",
    "    prediction_label = model.predict(new_data_scaled)[0]\n",
    "    prediction_state = STATE_MAP[prediction_label]\n",
    "\n",
    "    # 4. Get the confidence (probability) of the predicted state\n",
    "    probabilities = model.predict_proba(new_data_scaled)[0]\n",
    "    confidence_score = probabilities[prediction_label]\n",
    "\n",
    "    # 5. Generate the alert\n",
    "    if prediction_state == 'Needs Water':\n",
    "        alert = \"🚨 ACTION REQUIRED: The plant is likely dry!\"\n",
    "    elif prediction_state == 'Overwatered':\n",
    "        alert = \"⚠️ WARNING: The plant is likely overwatered. Stop watering for a few days!\"\n",
    "    else:\n",
    "        alert = \"✅ STATUS: Your plant is happy and healthy.\"\n",
    "\n",
    "    return {\n",
    "        'State': prediction_state,\n",
    "        'Confidence': f\"{confidence_score * 100:.2f}%\",\n",
    "        'Alert': alert\n",
    "    }"
   ]
  },
  {
   "cell_type": "code",
   "execution_count": 8,
   "id": "9a1130a2-a7eb-47d6-824c-464f32dd5209",
   "metadata": {},
   "outputs": [
    {
     "name": "stdout",
     "output_type": "stream",
     "text": [
      "\n",
      "--- Smart Plant Alert System Demo ---\n",
      "\n",
      "Reading A (Simulated Healthy): Healthy | Confidence: 100.00% | Alert: ✅ STATUS: Your plant is happy and healthy.\n",
      "Reading B (Simulated Dry): Needs Water | Confidence: 100.00% | Alert: 🚨 ACTION REQUIRED: The plant is likely dry!\n",
      "Reading C (Simulated Wet): Overwatered | Confidence: 100.00% | Alert: ⚠️ WARNING: The plant is likely overwatered. Stop watering for a few days!\n"
     ]
    }
   ],
   "source": [
    "print(\"\\n--- Smart Plant Alert System Demo ---\")\n",
    "\n",
    "# Scenario A: Healthy conditions (Soil Moisture ~50)\n",
    "reading_A = get_plant_alert(temp=23, hum=55, light=700, soil_moisture=50, model=model, scaler=scaler)\n",
    "print(f\"\\nReading A (Simulated Healthy): {reading_A['State']} | Confidence: {reading_A['Confidence']} | Alert: {reading_A['Alert']}\")\n",
    "\n",
    "# Scenario B: Needs Water (Soil Moisture ~20)\n",
    "reading_B = get_plant_alert(temp=28, hum=40, light=850, soil_moisture=20, model=model, scaler=scaler)\n",
    "print(f\"Reading B (Simulated Dry): {reading_B['State']} | Confidence: {reading_B['Confidence']} | Alert: {reading_B['Alert']}\")\n",
    "\n",
    "# Scenario C: Overwatered (Soil Moisture ~80)\n",
    "reading_C = get_plant_alert(temp=20, hum=75, light=450, soil_moisture=80, model=model, scaler=scaler)\n",
    "print(f\"Reading C (Simulated Wet): {reading_C['State']} | Confidence: {reading_C['Confidence']} | Alert: {reading_C['Alert']}\")"
   ]
  },
  {
   "cell_type": "code",
   "execution_count": 9,
   "id": "7cc07d05-4267-49fe-9e19-f7134a77beae",
   "metadata": {},
   "outputs": [
    {
     "data": {
      "text/plain": [
       "['plant_scaler.pkl']"
      ]
     },
     "execution_count": 9,
     "metadata": {},
     "output_type": "execute_result"
    }
   ],
   "source": [
    "import joblib\n",
    "\n",
    "# After training the model and scaler\n",
    "joblib.dump(model, 'plant_classifier_model.pkl')\n",
    "joblib.dump(scaler, 'plant_scaler.pkl')"
   ]
  },
  {
   "cell_type": "code",
   "execution_count": null,
   "id": "040585ff-c602-4e2d-8435-db8788f8a2e1",
   "metadata": {},
   "outputs": [],
   "source": []
  }
 ],
 "metadata": {
  "kernelspec": {
   "display_name": "Python 3 (ipykernel)",
   "language": "python",
   "name": "python3"
  },
  "language_info": {
   "codemirror_mode": {
    "name": "ipython",
    "version": 3
   },
   "file_extension": ".py",
   "mimetype": "text/x-python",
   "name": "python",
   "nbconvert_exporter": "python",
   "pygments_lexer": "ipython3",
   "version": "3.12.0"
  }
 },
 "nbformat": 4,
 "nbformat_minor": 5
}
